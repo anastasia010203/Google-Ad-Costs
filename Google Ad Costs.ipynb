{
 "cells": [
  {
   "cell_type": "markdown",
   "id": "0a90a814",
   "metadata": {},
   "source": [
    "# Google Ad Costs"
   ]
  },
  {
   "cell_type": "markdown",
   "id": "0b7aab0e",
   "metadata": {},
   "source": [
    "Ссылка на датасет: https://www.kaggle.com/datasets/brendan45774/how-much-it-cost-to-get-an-ad-on-google?resource=download\n",
    "\n",
    "Описание: Google is ranked in the top 10 with over 73,407 backlinks and a domain score of 94. Google search volume has 83,100,100 a month. So how much money does it take to have an ad of your website?"
   ]
  },
  {
   "cell_type": "markdown",
   "id": "2cd12a9d",
   "metadata": {},
   "source": [
    "# Об этом датасете\n",
    "- Keywords - слова, которые люди вводят в Google;\n",
    "- Search Volume - количество поисковых запросов по данному ключевому слову в месяц;\n",
    "- CPC(Cost Per Click)- средняя цена за клик за показ рекламы в Google;\n",
    "- Paid Difficulty - предполагаемая конкуренция в платном поиске, чем выше число, тем выше конкуренция;\n",
    "- Search Difficulty(SEO Difficulty) - расчетная конкуренция в органическом поиске, чем выше число, тем выше конкуренция."
   ]
  },
  {
   "cell_type": "code",
   "execution_count": 2,
   "id": "7e019a5f",
   "metadata": {},
   "outputs": [],
   "source": [
    "# Импортируем все необходимые библиотеки\n",
    "\n",
    "import pandas as pd\n",
    "import numpy as np\n",
    "import seaborn as sns \n",
    "import matplotlib.pyplot as plt\n",
    "import markdown \n",
    "import scipy.stats\n",
    "import warnings\n",
    "from matplotlib import pyplot as plt\n",
    "warnings.filterwarnings('ignore')\n",
    "pd.options.display.float_format = '{:.4f}'.format"
   ]
  },
  {
   "cell_type": "code",
   "execution_count": 36,
   "id": "73c4c0b8",
   "metadata": {},
   "outputs": [
    {
     "name": "stdout",
     "output_type": "stream",
     "text": [
      "(100, 6)\n"
     ]
    },
    {
     "data": {
      "text/html": [
       "<div>\n",
       "<style scoped>\n",
       "    .dataframe tbody tr th:only-of-type {\n",
       "        vertical-align: middle;\n",
       "    }\n",
       "\n",
       "    .dataframe tbody tr th {\n",
       "        vertical-align: top;\n",
       "    }\n",
       "\n",
       "    .dataframe thead th {\n",
       "        text-align: right;\n",
       "    }\n",
       "</style>\n",
       "<table border=\"1\" class=\"dataframe\">\n",
       "  <thead>\n",
       "    <tr style=\"text-align: right;\">\n",
       "      <th></th>\n",
       "      <th>No</th>\n",
       "      <th>Keyword</th>\n",
       "      <th>Search Volume</th>\n",
       "      <th>CPC</th>\n",
       "      <th>Paid Difficulty</th>\n",
       "      <th>Search Difficulty</th>\n",
       "    </tr>\n",
       "  </thead>\n",
       "  <tbody>\n",
       "    <tr>\n",
       "      <th>0</th>\n",
       "      <td>1</td>\n",
       "      <td>google</td>\n",
       "      <td>83100000</td>\n",
       "      <td>$1.19</td>\n",
       "      <td>1</td>\n",
       "      <td>61</td>\n",
       "    </tr>\n",
       "    <tr>\n",
       "      <th>1</th>\n",
       "      <td>2</td>\n",
       "      <td>google translate</td>\n",
       "      <td>37200000</td>\n",
       "      <td>$0.82</td>\n",
       "      <td>1</td>\n",
       "      <td>48</td>\n",
       "    </tr>\n",
       "    <tr>\n",
       "      <th>2</th>\n",
       "      <td>3</td>\n",
       "      <td>google classroom</td>\n",
       "      <td>24900000</td>\n",
       "      <td>$0.09</td>\n",
       "      <td>4</td>\n",
       "      <td>49</td>\n",
       "    </tr>\n",
       "    <tr>\n",
       "      <th>3</th>\n",
       "      <td>4</td>\n",
       "      <td>google maps</td>\n",
       "      <td>24900000</td>\n",
       "      <td>$0.59</td>\n",
       "      <td>1</td>\n",
       "      <td>48</td>\n",
       "    </tr>\n",
       "    <tr>\n",
       "      <th>4</th>\n",
       "      <td>5</td>\n",
       "      <td>google docs</td>\n",
       "      <td>20400000</td>\n",
       "      <td>$0.59</td>\n",
       "      <td>1</td>\n",
       "      <td>48</td>\n",
       "    </tr>\n",
       "  </tbody>\n",
       "</table>\n",
       "</div>"
      ],
      "text/plain": [
       "   No           Keyword  Search Volume    CPC  Paid Difficulty  \\\n",
       "0   1            google       83100000  $1.19                1   \n",
       "1   2  google translate       37200000  $0.82                1   \n",
       "2   3  google classroom       24900000  $0.09                4   \n",
       "3   4       google maps       24900000  $0.59                1   \n",
       "4   5       google docs       20400000  $0.59                1   \n",
       "\n",
       "   Search Difficulty  \n",
       "0                 61  \n",
       "1                 48  \n",
       "2                 49  \n",
       "3                 48  \n",
       "4                 48  "
      ]
     },
     "execution_count": 36,
     "metadata": {},
     "output_type": "execute_result"
    }
   ],
   "source": [
    "# Импортируем датасет\n",
    "\n",
    "ads=pd.read_csv('Desktop/google_ads_costs.csv')\n",
    "print(ads.shape)\n",
    "ads.head()"
   ]
  },
  {
   "cell_type": "code",
   "execution_count": 37,
   "id": "8d802e38",
   "metadata": {},
   "outputs": [
    {
     "name": "stdout",
     "output_type": "stream",
     "text": [
      "<class 'pandas.core.frame.DataFrame'>\n",
      "RangeIndex: 100 entries, 0 to 99\n",
      "Data columns (total 6 columns):\n",
      " #   Column             Non-Null Count  Dtype \n",
      "---  ------             --------------  ----- \n",
      " 0   No                 100 non-null    int64 \n",
      " 1   Keyword            100 non-null    object\n",
      " 2   Search Volume      100 non-null    int64 \n",
      " 3   CPC                100 non-null    object\n",
      " 4   Paid Difficulty    100 non-null    int64 \n",
      " 5   Search Difficulty  100 non-null    int64 \n",
      "dtypes: int64(4), object(2)\n",
      "memory usage: 4.8+ KB\n"
     ]
    }
   ],
   "source": [
    "# проведем первичный анализ данных о датасете (df.info() и посмотрим базовые метрики (df.describe())\n",
    "\n",
    "ads.info()"
   ]
  },
  {
   "cell_type": "code",
   "execution_count": 38,
   "id": "a8f6749c",
   "metadata": {},
   "outputs": [
    {
     "data": {
      "text/html": [
       "<div>\n",
       "<style scoped>\n",
       "    .dataframe tbody tr th:only-of-type {\n",
       "        vertical-align: middle;\n",
       "    }\n",
       "\n",
       "    .dataframe tbody tr th {\n",
       "        vertical-align: top;\n",
       "    }\n",
       "\n",
       "    .dataframe thead th {\n",
       "        text-align: right;\n",
       "    }\n",
       "</style>\n",
       "<table border=\"1\" class=\"dataframe\">\n",
       "  <thead>\n",
       "    <tr style=\"text-align: right;\">\n",
       "      <th></th>\n",
       "      <th>No</th>\n",
       "      <th>Search Volume</th>\n",
       "      <th>Paid Difficulty</th>\n",
       "      <th>Search Difficulty</th>\n",
       "    </tr>\n",
       "  </thead>\n",
       "  <tbody>\n",
       "    <tr>\n",
       "      <th>count</th>\n",
       "      <td>100.0000</td>\n",
       "      <td>100.0000</td>\n",
       "      <td>100.0000</td>\n",
       "      <td>100.0000</td>\n",
       "    </tr>\n",
       "    <tr>\n",
       "      <th>mean</th>\n",
       "      <td>50.5000</td>\n",
       "      <td>2705090.0000</td>\n",
       "      <td>17.4100</td>\n",
       "      <td>51.1500</td>\n",
       "    </tr>\n",
       "    <tr>\n",
       "      <th>std</th>\n",
       "      <td>29.0115</td>\n",
       "      <td>9822365.4050</td>\n",
       "      <td>28.2364</td>\n",
       "      <td>8.7518</td>\n",
       "    </tr>\n",
       "    <tr>\n",
       "      <th>min</th>\n",
       "      <td>1.0000</td>\n",
       "      <td>74000.0000</td>\n",
       "      <td>1.0000</td>\n",
       "      <td>35.0000</td>\n",
       "    </tr>\n",
       "    <tr>\n",
       "      <th>25%</th>\n",
       "      <td>25.7500</td>\n",
       "      <td>135000.0000</td>\n",
       "      <td>1.0000</td>\n",
       "      <td>48.0000</td>\n",
       "    </tr>\n",
       "    <tr>\n",
       "      <th>50%</th>\n",
       "      <td>50.5000</td>\n",
       "      <td>301000.0000</td>\n",
       "      <td>4.0000</td>\n",
       "      <td>48.0000</td>\n",
       "    </tr>\n",
       "    <tr>\n",
       "      <th>75%</th>\n",
       "      <td>75.2500</td>\n",
       "      <td>867250.0000</td>\n",
       "      <td>15.2500</td>\n",
       "      <td>52.0000</td>\n",
       "    </tr>\n",
       "    <tr>\n",
       "      <th>max</th>\n",
       "      <td>100.0000</td>\n",
       "      <td>83100000.0000</td>\n",
       "      <td>100.0000</td>\n",
       "      <td>78.0000</td>\n",
       "    </tr>\n",
       "  </tbody>\n",
       "</table>\n",
       "</div>"
      ],
      "text/plain": [
       "            No  Search Volume  Paid Difficulty  Search Difficulty\n",
       "count 100.0000       100.0000         100.0000           100.0000\n",
       "mean   50.5000   2705090.0000          17.4100            51.1500\n",
       "std    29.0115   9822365.4050          28.2364             8.7518\n",
       "min     1.0000     74000.0000           1.0000            35.0000\n",
       "25%    25.7500    135000.0000           1.0000            48.0000\n",
       "50%    50.5000    301000.0000           4.0000            48.0000\n",
       "75%    75.2500    867250.0000          15.2500            52.0000\n",
       "max   100.0000  83100000.0000         100.0000            78.0000"
      ]
     },
     "execution_count": 38,
     "metadata": {},
     "output_type": "execute_result"
    }
   ],
   "source": [
    "ads.describe()"
   ]
  },
  {
   "cell_type": "code",
   "execution_count": 39,
   "id": "12dd62a4",
   "metadata": {},
   "outputs": [
    {
     "data": {
      "text/plain": [
       "No                   0\n",
       "Keyword              0\n",
       "Search Volume        0\n",
       "CPC                  0\n",
       "Paid Difficulty      0\n",
       "Search Difficulty    0\n",
       "dtype: int64"
      ]
     },
     "execution_count": 39,
     "metadata": {},
     "output_type": "execute_result"
    }
   ],
   "source": [
    "#проверим пропущенные значения \n",
    "\n",
    "ads.isnull().sum()"
   ]
  },
  {
   "cell_type": "markdown",
   "id": "c5109a89",
   "metadata": {},
   "source": [
    "пропущенные значения в датасете отсутствуют"
   ]
  },
  {
   "cell_type": "code",
   "execution_count": 40,
   "id": "093f64ec",
   "metadata": {},
   "outputs": [
    {
     "data": {
      "text/html": [
       "<div>\n",
       "<style scoped>\n",
       "    .dataframe tbody tr th:only-of-type {\n",
       "        vertical-align: middle;\n",
       "    }\n",
       "\n",
       "    .dataframe tbody tr th {\n",
       "        vertical-align: top;\n",
       "    }\n",
       "\n",
       "    .dataframe thead th {\n",
       "        text-align: right;\n",
       "    }\n",
       "</style>\n",
       "<table border=\"1\" class=\"dataframe\">\n",
       "  <thead>\n",
       "    <tr style=\"text-align: right;\">\n",
       "      <th></th>\n",
       "      <th>No</th>\n",
       "      <th>Keyword</th>\n",
       "      <th>Search Volume</th>\n",
       "      <th>CPC</th>\n",
       "      <th>Paid Difficulty</th>\n",
       "      <th>Search Difficulty</th>\n",
       "    </tr>\n",
       "  </thead>\n",
       "  <tbody>\n",
       "    <tr>\n",
       "      <th>94</th>\n",
       "      <td>95</td>\n",
       "      <td>google remote desktop</td>\n",
       "      <td>74000</td>\n",
       "      <td>$6.77</td>\n",
       "      <td>8</td>\n",
       "      <td>38</td>\n",
       "    </tr>\n",
       "    <tr>\n",
       "      <th>77</th>\n",
       "      <td>78</td>\n",
       "      <td>google cloud</td>\n",
       "      <td>135000</td>\n",
       "      <td>$6.50</td>\n",
       "      <td>25</td>\n",
       "      <td>55</td>\n",
       "    </tr>\n",
       "    <tr>\n",
       "      <th>31</th>\n",
       "      <td>32</td>\n",
       "      <td>google ads</td>\n",
       "      <td>550000</td>\n",
       "      <td>$3.93</td>\n",
       "      <td>32</td>\n",
       "      <td>57</td>\n",
       "    </tr>\n",
       "    <tr>\n",
       "      <th>29</th>\n",
       "      <td>30</td>\n",
       "      <td>google adwords</td>\n",
       "      <td>550000</td>\n",
       "      <td>$3.93</td>\n",
       "      <td>32</td>\n",
       "      <td>57</td>\n",
       "    </tr>\n",
       "    <tr>\n",
       "      <th>80</th>\n",
       "      <td>81</td>\n",
       "      <td>google business</td>\n",
       "      <td>135000</td>\n",
       "      <td>$3.90</td>\n",
       "      <td>26</td>\n",
       "      <td>55</td>\n",
       "    </tr>\n",
       "    <tr>\n",
       "      <th>...</th>\n",
       "      <td>...</td>\n",
       "      <td>...</td>\n",
       "      <td>...</td>\n",
       "      <td>...</td>\n",
       "      <td>...</td>\n",
       "      <td>...</td>\n",
       "    </tr>\n",
       "    <tr>\n",
       "      <th>55</th>\n",
       "      <td>56</td>\n",
       "      <td>google chrome download</td>\n",
       "      <td>246000</td>\n",
       "      <td>$0.15</td>\n",
       "      <td>14</td>\n",
       "      <td>47</td>\n",
       "    </tr>\n",
       "    <tr>\n",
       "      <th>36</th>\n",
       "      <td>37</td>\n",
       "      <td>google store</td>\n",
       "      <td>450000</td>\n",
       "      <td>$0.15</td>\n",
       "      <td>70</td>\n",
       "      <td>69</td>\n",
       "    </tr>\n",
       "    <tr>\n",
       "      <th>18</th>\n",
       "      <td>19</td>\n",
       "      <td>for google chrome</td>\n",
       "      <td>1500000</td>\n",
       "      <td>$0.12</td>\n",
       "      <td>15</td>\n",
       "      <td>47</td>\n",
       "    </tr>\n",
       "    <tr>\n",
       "      <th>2</th>\n",
       "      <td>3</td>\n",
       "      <td>google classroom</td>\n",
       "      <td>24900000</td>\n",
       "      <td>$0.09</td>\n",
       "      <td>4</td>\n",
       "      <td>49</td>\n",
       "    </tr>\n",
       "    <tr>\n",
       "      <th>58</th>\n",
       "      <td>59</td>\n",
       "      <td>google fonts</td>\n",
       "      <td>201000</td>\n",
       "      <td>$0</td>\n",
       "      <td>1</td>\n",
       "      <td>48</td>\n",
       "    </tr>\n",
       "  </tbody>\n",
       "</table>\n",
       "<p>100 rows × 6 columns</p>\n",
       "</div>"
      ],
      "text/plain": [
       "    No                 Keyword  Search Volume    CPC  Paid Difficulty  \\\n",
       "94  95   google remote desktop          74000  $6.77                8   \n",
       "77  78            google cloud         135000  $6.50               25   \n",
       "31  32              google ads         550000  $3.93               32   \n",
       "29  30          google adwords         550000  $3.93               32   \n",
       "80  81         google business         135000  $3.90               26   \n",
       "..  ..                     ...            ...    ...              ...   \n",
       "55  56  google chrome download         246000  $0.15               14   \n",
       "36  37            google store         450000  $0.15               70   \n",
       "18  19       for google chrome        1500000  $0.12               15   \n",
       "2    3        google classroom       24900000  $0.09                4   \n",
       "58  59            google fonts         201000     $0                1   \n",
       "\n",
       "    Search Difficulty  \n",
       "94                 38  \n",
       "77                 55  \n",
       "31                 57  \n",
       "29                 57  \n",
       "80                 55  \n",
       "..                ...  \n",
       "55                 47  \n",
       "36                 69  \n",
       "18                 47  \n",
       "2                  49  \n",
       "58                 48  \n",
       "\n",
       "[100 rows x 6 columns]"
      ]
     },
     "execution_count": 40,
     "metadata": {},
     "output_type": "execute_result"
    }
   ],
   "source": [
    "# отсортируем данные по признаку \"CPC\" (т.е. по стоимости за клик)\n",
    "\n",
    "ads.sort_values(by='CPC', ascending=False)"
   ]
  },
  {
   "cell_type": "markdown",
   "id": "00f26a4e",
   "metadata": {},
   "source": [
    "как мы видим, наибольшая стоимость за клик наблюдается у запросов \"google remote desktop\", \"google cloud\" - более 6 долларов, далее  идут запросы по стоимости за клик ниже 4 долларов - \"google ads\", \"google adwords\", \"google business\""
   ]
  },
  {
   "cell_type": "code",
   "execution_count": 41,
   "id": "59968cea",
   "metadata": {},
   "outputs": [
    {
     "data": {
      "text/plain": [
       "array(['$1.19', '$0.82', '$0.09', '$0.59', '$0.64', '$0.78', '$0.94',\n",
       "       '$3.89', '$0.69', '$0.66', '$0.57', '$3.34', '$0.47', '$0.71',\n",
       "       '$0.20', '$1.80', '$0.12', '$0.26', '$2.71', '$0.53', '$2.49',\n",
       "       '$0.95', '$1.38', '$0.63', '$2.26', '$0.36', '$3.93', '$1.46',\n",
       "       '$2.46', '$0.52', '$1.17', '$0.68', '$0.15', '$0.28', '$1.79',\n",
       "       '$0.75', '$2.00', '$2.65', '$1.44', '$2.94', '$0.85', '$1.99',\n",
       "       '$1.05', '$0.88', '$1.76', '$0.61', '$1.07', '$0.56', '$0',\n",
       "       '$1.88', '$1.81', '$1.08', '$0.70', '$2.29', '$2.14', '$2.03',\n",
       "       '$2.10', '$0.35', '$1.36', '$6.50', '$0.48', '$1.14', '$3.90',\n",
       "       '$0.29', '$0.80', '$2.24', '$1.59', '$1.26', '$1.94', '$1.45',\n",
       "       '$1.93', '$0.19', '$6.77', '$0.34', '$1.18', '$0.60', '$1.87',\n",
       "       '$0.54'], dtype=object)"
      ]
     },
     "execution_count": 41,
     "metadata": {},
     "output_type": "execute_result"
    }
   ],
   "source": [
    "# выведем уникальные значения стоимости за клик (CPC)\n",
    "\n",
    "ads['CPC'].unique()"
   ]
  },
  {
   "cell_type": "code",
   "execution_count": 42,
   "id": "63778294",
   "metadata": {},
   "outputs": [
    {
     "data": {
      "text/html": [
       "<div>\n",
       "<style scoped>\n",
       "    .dataframe tbody tr th:only-of-type {\n",
       "        vertical-align: middle;\n",
       "    }\n",
       "\n",
       "    .dataframe tbody tr th {\n",
       "        vertical-align: top;\n",
       "    }\n",
       "\n",
       "    .dataframe thead th {\n",
       "        text-align: right;\n",
       "    }\n",
       "</style>\n",
       "<table border=\"1\" class=\"dataframe\">\n",
       "  <thead>\n",
       "    <tr style=\"text-align: right;\">\n",
       "      <th></th>\n",
       "      <th>No</th>\n",
       "      <th>Keyword</th>\n",
       "      <th>Search Volume</th>\n",
       "      <th>CPC</th>\n",
       "      <th>Paid Difficulty</th>\n",
       "      <th>Search Difficulty</th>\n",
       "    </tr>\n",
       "  </thead>\n",
       "  <tbody>\n",
       "    <tr>\n",
       "      <th>65</th>\n",
       "      <td>66</td>\n",
       "      <td>google wifi</td>\n",
       "      <td>165000</td>\n",
       "      <td>$0.75</td>\n",
       "      <td>100</td>\n",
       "      <td>78</td>\n",
       "    </tr>\n",
       "    <tr>\n",
       "      <th>61</th>\n",
       "      <td>62</td>\n",
       "      <td>google pixel</td>\n",
       "      <td>201000</td>\n",
       "      <td>$1.81</td>\n",
       "      <td>100</td>\n",
       "      <td>78</td>\n",
       "    </tr>\n",
       "    <tr>\n",
       "      <th>75</th>\n",
       "      <td>76</td>\n",
       "      <td>google nest</td>\n",
       "      <td>135000</td>\n",
       "      <td>$1.36</td>\n",
       "      <td>100</td>\n",
       "      <td>78</td>\n",
       "    </tr>\n",
       "    <tr>\n",
       "      <th>35</th>\n",
       "      <td>36</td>\n",
       "      <td>google home</td>\n",
       "      <td>450000</td>\n",
       "      <td>$0.68</td>\n",
       "      <td>99</td>\n",
       "      <td>77</td>\n",
       "    </tr>\n",
       "    <tr>\n",
       "      <th>86</th>\n",
       "      <td>87</td>\n",
       "      <td>google home hub</td>\n",
       "      <td>90500</td>\n",
       "      <td>$1.59</td>\n",
       "      <td>94</td>\n",
       "      <td>69</td>\n",
       "    </tr>\n",
       "    <tr>\n",
       "      <th>...</th>\n",
       "      <td>...</td>\n",
       "      <td>...</td>\n",
       "      <td>...</td>\n",
       "      <td>...</td>\n",
       "      <td>...</td>\n",
       "      <td>...</td>\n",
       "    </tr>\n",
       "    <tr>\n",
       "      <th>1</th>\n",
       "      <td>2</td>\n",
       "      <td>google translate</td>\n",
       "      <td>37200000</td>\n",
       "      <td>$0.82</td>\n",
       "      <td>1</td>\n",
       "      <td>48</td>\n",
       "    </tr>\n",
       "    <tr>\n",
       "      <th>53</th>\n",
       "      <td>54</td>\n",
       "      <td>google keep</td>\n",
       "      <td>246000</td>\n",
       "      <td>$0.66</td>\n",
       "      <td>1</td>\n",
       "      <td>48</td>\n",
       "    </tr>\n",
       "    <tr>\n",
       "      <th>57</th>\n",
       "      <td>58</td>\n",
       "      <td>google contacts</td>\n",
       "      <td>246000</td>\n",
       "      <td>$0.56</td>\n",
       "      <td>1</td>\n",
       "      <td>48</td>\n",
       "    </tr>\n",
       "    <tr>\n",
       "      <th>58</th>\n",
       "      <td>59</td>\n",
       "      <td>google fonts</td>\n",
       "      <td>201000</td>\n",
       "      <td>$0</td>\n",
       "      <td>1</td>\n",
       "      <td>48</td>\n",
       "    </tr>\n",
       "    <tr>\n",
       "      <th>50</th>\n",
       "      <td>51</td>\n",
       "      <td>google directions</td>\n",
       "      <td>301000</td>\n",
       "      <td>$0.88</td>\n",
       "      <td>1</td>\n",
       "      <td>48</td>\n",
       "    </tr>\n",
       "  </tbody>\n",
       "</table>\n",
       "<p>100 rows × 6 columns</p>\n",
       "</div>"
      ],
      "text/plain": [
       "    No            Keyword  Search Volume    CPC  Paid Difficulty  \\\n",
       "65  66        google wifi         165000  $0.75              100   \n",
       "61  62       google pixel         201000  $1.81              100   \n",
       "75  76        google nest         135000  $1.36              100   \n",
       "35  36        google home         450000  $0.68               99   \n",
       "86  87    google home hub          90500  $1.59               94   \n",
       "..  ..                ...            ...    ...              ...   \n",
       "1    2   google translate       37200000  $0.82                1   \n",
       "53  54        google keep         246000  $0.66                1   \n",
       "57  58    google contacts         246000  $0.56                1   \n",
       "58  59       google fonts         201000     $0                1   \n",
       "50  51  google directions         301000  $0.88                1   \n",
       "\n",
       "    Search Difficulty  \n",
       "65                 78  \n",
       "61                 78  \n",
       "75                 78  \n",
       "35                 77  \n",
       "86                 69  \n",
       "..                ...  \n",
       "1                  48  \n",
       "53                 48  \n",
       "57                 48  \n",
       "58                 48  \n",
       "50                 48  \n",
       "\n",
       "[100 rows x 6 columns]"
      ]
     },
     "execution_count": 42,
     "metadata": {},
     "output_type": "execute_result"
    }
   ],
   "source": [
    "# отсортируем данные по признаку \"Paid Difficulty\" (т.е. предполагаемой конкуренции в платном поиске)\n",
    "\n",
    "ads.sort_values(by='Paid Difficulty', ascending=False)"
   ]
  },
  {
   "cell_type": "code",
   "execution_count": 43,
   "id": "520b0b25",
   "metadata": {},
   "outputs": [
    {
     "data": {
      "text/plain": [
       "<seaborn.axisgrid.FacetGrid at 0x7f9bceba2370>"
      ]
     },
     "execution_count": 43,
     "metadata": {},
     "output_type": "execute_result"
    },
    {
     "data": {
      "image/png": "[encoded data removed]",
      "text/plain": [
       "<Figure size 360x360 with 1 Axes>"
      ]
     },
     "metadata": {},
     "output_type": "display_data"
    }
   ],
   "source": [
    "# построим категориальный график по параметру Paid Difficulty, используя визуализацию библиотеки plot\n",
    "\n",
    "sns.catplot(y = 'Paid Difficulty', data = ads, kind = 'count')"
   ]
  },
  {
   "cell_type": "markdown",
   "id": "49298337",
   "metadata": {},
   "source": [
    "по графику видно, что по предполагаемой конкуренции в платном поиске 40 запросов из 100 не являются высоко конкурентными (показатель = 1),  чем выше число, тем выше конкуренция;"
   ]
  },
  {
   "cell_type": "code",
   "execution_count": 53,
   "id": "fa3c6335",
   "metadata": {},
   "outputs": [
    {
     "data": {
      "text/html": [
       "<div>\n",
       "<style scoped>\n",
       "    .dataframe tbody tr th:only-of-type {\n",
       "        vertical-align: middle;\n",
       "    }\n",
       "\n",
       "    .dataframe tbody tr th {\n",
       "        vertical-align: top;\n",
       "    }\n",
       "\n",
       "    .dataframe thead th {\n",
       "        text-align: right;\n",
       "    }\n",
       "</style>\n",
       "<table border=\"1\" class=\"dataframe\">\n",
       "  <thead>\n",
       "    <tr style=\"text-align: right;\">\n",
       "      <th></th>\n",
       "      <th>Keyword</th>\n",
       "      <th>Search Volume</th>\n",
       "      <th>CPC</th>\n",
       "    </tr>\n",
       "  </thead>\n",
       "  <tbody>\n",
       "    <tr>\n",
       "      <th>0</th>\n",
       "      <td>google</td>\n",
       "      <td>83100000</td>\n",
       "      <td>$1.19</td>\n",
       "    </tr>\n",
       "    <tr>\n",
       "      <th>1</th>\n",
       "      <td>google translate</td>\n",
       "      <td>37200000</td>\n",
       "      <td>$0.82</td>\n",
       "    </tr>\n",
       "    <tr>\n",
       "      <th>2</th>\n",
       "      <td>google classroom</td>\n",
       "      <td>24900000</td>\n",
       "      <td>$0.09</td>\n",
       "    </tr>\n",
       "    <tr>\n",
       "      <th>3</th>\n",
       "      <td>google maps</td>\n",
       "      <td>24900000</td>\n",
       "      <td>$0.59</td>\n",
       "    </tr>\n",
       "    <tr>\n",
       "      <th>4</th>\n",
       "      <td>google docs</td>\n",
       "      <td>20400000</td>\n",
       "      <td>$0.59</td>\n",
       "    </tr>\n",
       "    <tr>\n",
       "      <th>5</th>\n",
       "      <td>google drive</td>\n",
       "      <td>11100000</td>\n",
       "      <td>$0.64</td>\n",
       "    </tr>\n",
       "    <tr>\n",
       "      <th>6</th>\n",
       "      <td>google flights</td>\n",
       "      <td>9140000</td>\n",
       "      <td>$0.78</td>\n",
       "    </tr>\n",
       "    <tr>\n",
       "      <th>7</th>\n",
       "      <td>google news</td>\n",
       "      <td>6120000</td>\n",
       "      <td>$0.94</td>\n",
       "    </tr>\n",
       "    <tr>\n",
       "      <th>8</th>\n",
       "      <td>google scholar</td>\n",
       "      <td>4090000</td>\n",
       "      <td>$3.89</td>\n",
       "    </tr>\n",
       "    <tr>\n",
       "      <th>9</th>\n",
       "      <td>google slides</td>\n",
       "      <td>4090000</td>\n",
       "      <td>$0.69</td>\n",
       "    </tr>\n",
       "  </tbody>\n",
       "</table>\n",
       "</div>"
      ],
      "text/plain": [
       "            Keyword  Search Volume    CPC\n",
       "0            google       83100000  $1.19\n",
       "1  google translate       37200000  $0.82\n",
       "2  google classroom       24900000  $0.09\n",
       "3       google maps       24900000  $0.59\n",
       "4       google docs       20400000  $0.59\n",
       "5      google drive       11100000  $0.64\n",
       "6    google flights        9140000  $0.78\n",
       "7       google news        6120000  $0.94\n",
       "8    google scholar        4090000  $3.89\n",
       "9     google slides        4090000  $0.69"
      ]
     },
     "execution_count": 53,
     "metadata": {},
     "output_type": "execute_result"
    }
   ],
   "source": [
    "# определим топ-10 самых популярных (наибольших по числу) поисковых запросов\n",
    "\n",
    "short_ads = ads[['Keyword', 'Search Volume', 'CPC']]\n",
    "short_ads[short_ads.groupby('Search Volume')['CPC'].transform(max) == short_ads['CPC']]\n",
    "short_ads.head(10)"
   ]
  },
  {
   "cell_type": "markdown",
   "id": "8c45d4d8",
   "metadata": {},
   "source": [
    "самые популярные запросы по числу поиска в месяц - \"google\", \"google translate\", \"google maps\", \"google docs\", \"google drive\""
   ]
  },
  {
   "cell_type": "code",
   "execution_count": 82,
   "id": "75f4dcdc",
   "metadata": {},
   "outputs": [
    {
     "data": {
      "text/plain": [
       "Keyword\n",
       "for google account     2.0000\n",
       "for google chrome     15.0000\n",
       "google                 1.0000\n",
       "google account         2.0000\n",
       "google ads            32.0000\n",
       "                       ...   \n",
       "google trends          1.0000\n",
       "google underwater      1.0000\n",
       "google voice           1.0000\n",
       "google weather         3.0000\n",
       "google wifi          100.0000\n",
       "Name: Paid Difficulty, Length: 100, dtype: float64"
      ]
     },
     "execution_count": 82,
     "metadata": {},
     "output_type": "execute_result"
    }
   ],
   "source": [
    "# найдем наибольший показатель Paid Difficulty (показатель конкуренции в платном поиске)\n",
    "\n",
    "paidtop_ads=ads.groupby('Keyword')['Paid Difficulty'].mean()\n",
    "paidtop_ads"
   ]
  },
  {
   "cell_type": "code",
   "execution_count": 86,
   "id": "8f431228",
   "metadata": {},
   "outputs": [
    {
     "data": {
      "text/plain": [
       "Keyword\n",
       "google wifi       100.0000\n",
       "google nest       100.0000\n",
       "google pixel      100.0000\n",
       "google home        99.0000\n",
       "google home hub    94.0000\n",
       "                    ...   \n",
       "google logo         1.0000\n",
       "google mail         1.0000\n",
       "google maps         1.0000\n",
       "google news         1.0000\n",
       "google login        1.0000\n",
       "Name: Paid Difficulty, Length: 100, dtype: float64"
      ]
     },
     "execution_count": 86,
     "metadata": {},
     "output_type": "execute_result"
    }
   ],
   "source": [
    "paidtop_ads.sort_values(ascending=False)"
   ]
  },
  {
   "cell_type": "markdown",
   "id": "c7b89f19",
   "metadata": {},
   "source": [
    "вывод - топ-5 запросов с наибольшим показателем Paid Difficulty, т.е. запросы, по которым существует наибольшая конкуренция в платном поиске - \"google wifi\", \"google nest\", \"google pixel\", \"google home\", \"google home hub\""
   ]
  },
  {
   "cell_type": "code",
   "execution_count": 91,
   "id": "0a19694a",
   "metadata": {},
   "outputs": [
    {
     "data": {
      "text/plain": [
       "Keyword\n",
       "google wifi        100.0000\n",
       "google nest        100.0000\n",
       "google pixel       100.0000\n",
       "google home         99.0000\n",
       "google home hub     94.0000\n",
       "google nest hub     92.0000\n",
       "google glass        87.0000\n",
       "google home mini    86.0000\n",
       "google nest mini    83.0000\n",
       "google pixel 4      78.0000\n",
       "Name: Paid Difficulty, dtype: float64"
      ]
     },
     "execution_count": 91,
     "metadata": {},
     "output_type": "execute_result"
    }
   ],
   "source": [
    "paidtop10=paidtop_ads.sort_values(ascending=False).head(10)\n",
    "paidtop10"
   ]
  },
  {
   "cell_type": "code",
   "execution_count": 92,
   "id": "97aba548",
   "metadata": {},
   "outputs": [
    {
     "data": {
      "text/plain": [
       "[<matplotlib.lines.Line2D at 0x7f9bb6cb9e80>]"
      ]
     },
     "execution_count": 92,
     "metadata": {},
     "output_type": "execute_result"
    },
    {
     "data": {
      "image/png": "[encoded data removed]",
      "text/plain": [
       "<Figure size 2880x1440 with 1 Axes>"
      ]
     },
     "metadata": {},
     "output_type": "display_data"
    }
   ],
   "source": [
    "fig, ax = plt.subplots(figsize=(40,20))\n",
    "ax.plot(paidtop10)"
   ]
  },
  {
   "cell_type": "markdown",
   "id": "8380410d",
   "metadata": {},
   "source": [
    "найдем размах, дисперсию и сраднеквадратичное отклонение количества стоимости клика"
   ]
  },
  {
   "cell_type": "code",
   "execution_count": 99,
   "id": "98c5f0ba",
   "metadata": {},
   "outputs": [
    {
     "name": "stdout",
     "output_type": "stream",
     "text": [
      "83026000\n",
      "96478862148383.84\n",
      "9822365.404951286\n"
     ]
    }
   ],
   "source": [
    "scope_dur = ads['Search Volume'].max() - ads['Search Volume'].min()\n",
    "var_dur = ads['Search Volume'].var()\n",
    "std_dur = ads['Search Volume'].std()\n",
    "print(scope_dur)\n",
    "print(var_dur)\n",
    "print(std_dur)"
   ]
  },
  {
   "cell_type": "markdown",
   "id": "b655d856",
   "metadata": {},
   "source": [
    "#  Матрица корреляций"
   ]
  },
  {
   "cell_type": "markdown",
   "id": "f09ba6e9",
   "metadata": {},
   "source": [
    "проведем анализ, используя матрицу корреляций. на пересечении в сетке матрицы выводится коэффициент корреляции между двумя полями. А именно, число на пересечении сетки говорит о том, насколько сильно зависит один фактор от другого (0 - нет зависимости, 1 - полное соответствин двух полей)."
   ]
  },
  {
   "cell_type": "code",
   "execution_count": 100,
   "id": "cd06742b",
   "metadata": {},
   "outputs": [
    {
     "data": {
      "text/html": [
       "<div>\n",
       "<style scoped>\n",
       "    .dataframe tbody tr th:only-of-type {\n",
       "        vertical-align: middle;\n",
       "    }\n",
       "\n",
       "    .dataframe tbody tr th {\n",
       "        vertical-align: top;\n",
       "    }\n",
       "\n",
       "    .dataframe thead th {\n",
       "        text-align: right;\n",
       "    }\n",
       "</style>\n",
       "<table border=\"1\" class=\"dataframe\">\n",
       "  <thead>\n",
       "    <tr style=\"text-align: right;\">\n",
       "      <th></th>\n",
       "      <th>Keyword</th>\n",
       "      <th>Search Volume</th>\n",
       "      <th>CPC</th>\n",
       "      <th>Paid Difficulty</th>\n",
       "      <th>Search Difficulty</th>\n",
       "    </tr>\n",
       "  </thead>\n",
       "  <tbody>\n",
       "    <tr>\n",
       "      <th>0</th>\n",
       "      <td>google</td>\n",
       "      <td>83100000</td>\n",
       "      <td>$1.19</td>\n",
       "      <td>1</td>\n",
       "      <td>61</td>\n",
       "    </tr>\n",
       "    <tr>\n",
       "      <th>1</th>\n",
       "      <td>google translate</td>\n",
       "      <td>37200000</td>\n",
       "      <td>$0.82</td>\n",
       "      <td>1</td>\n",
       "      <td>48</td>\n",
       "    </tr>\n",
       "    <tr>\n",
       "      <th>2</th>\n",
       "      <td>google classroom</td>\n",
       "      <td>24900000</td>\n",
       "      <td>$0.09</td>\n",
       "      <td>4</td>\n",
       "      <td>49</td>\n",
       "    </tr>\n",
       "    <tr>\n",
       "      <th>3</th>\n",
       "      <td>google maps</td>\n",
       "      <td>24900000</td>\n",
       "      <td>$0.59</td>\n",
       "      <td>1</td>\n",
       "      <td>48</td>\n",
       "    </tr>\n",
       "    <tr>\n",
       "      <th>4</th>\n",
       "      <td>google docs</td>\n",
       "      <td>20400000</td>\n",
       "      <td>$0.59</td>\n",
       "      <td>1</td>\n",
       "      <td>48</td>\n",
       "    </tr>\n",
       "    <tr>\n",
       "      <th>...</th>\n",
       "      <td>...</td>\n",
       "      <td>...</td>\n",
       "      <td>...</td>\n",
       "      <td>...</td>\n",
       "      <td>...</td>\n",
       "    </tr>\n",
       "    <tr>\n",
       "      <th>95</th>\n",
       "      <td>google extensions</td>\n",
       "      <td>74000</td>\n",
       "      <td>$0.34</td>\n",
       "      <td>1</td>\n",
       "      <td>41</td>\n",
       "    </tr>\n",
       "    <tr>\n",
       "      <th>96</th>\n",
       "      <td>google timer</td>\n",
       "      <td>74000</td>\n",
       "      <td>$1.18</td>\n",
       "      <td>1</td>\n",
       "      <td>41</td>\n",
       "    </tr>\n",
       "    <tr>\n",
       "      <th>97</th>\n",
       "      <td>google express</td>\n",
       "      <td>74000</td>\n",
       "      <td>$0.60</td>\n",
       "      <td>9</td>\n",
       "      <td>43</td>\n",
       "    </tr>\n",
       "    <tr>\n",
       "      <th>98</th>\n",
       "      <td>google dictionary</td>\n",
       "      <td>74000</td>\n",
       "      <td>$1.87</td>\n",
       "      <td>1</td>\n",
       "      <td>41</td>\n",
       "    </tr>\n",
       "    <tr>\n",
       "      <th>99</th>\n",
       "      <td>google nest mini</td>\n",
       "      <td>74000</td>\n",
       "      <td>$0.54</td>\n",
       "      <td>83</td>\n",
       "      <td>61</td>\n",
       "    </tr>\n",
       "  </tbody>\n",
       "</table>\n",
       "<p>100 rows × 5 columns</p>\n",
       "</div>"
      ],
      "text/plain": [
       "              Keyword  Search Volume    CPC  Paid Difficulty  \\\n",
       "0              google       83100000  $1.19                1   \n",
       "1    google translate       37200000  $0.82                1   \n",
       "2    google classroom       24900000  $0.09                4   \n",
       "3         google maps       24900000  $0.59                1   \n",
       "4         google docs       20400000  $0.59                1   \n",
       "..                ...            ...    ...              ...   \n",
       "95  google extensions          74000  $0.34                1   \n",
       "96       google timer          74000  $1.18                1   \n",
       "97     google express          74000  $0.60                9   \n",
       "98  google dictionary          74000  $1.87                1   \n",
       "99   google nest mini          74000  $0.54               83   \n",
       "\n",
       "    Search Difficulty  \n",
       "0                  61  \n",
       "1                  48  \n",
       "2                  49  \n",
       "3                  48  \n",
       "4                  48  \n",
       "..                ...  \n",
       "95                 41  \n",
       "96                 41  \n",
       "97                 43  \n",
       "98                 41  \n",
       "99                 61  \n",
       "\n",
       "[100 rows x 5 columns]"
      ]
     },
     "execution_count": 100,
     "metadata": {},
     "output_type": "execute_result"
    }
   ],
   "source": [
    "#для построения более корректной матрицы корреляций удаляем столбец порядкого номера 'serial'\n",
    "ads_without_serial = ads.drop(columns=['No']) \n",
    "ads_without_serial"
   ]
  },
  {
   "cell_type": "code",
   "execution_count": 101,
   "id": "f7505413",
   "metadata": {},
   "outputs": [
    {
     "data": {
      "image/png": "[encoded data removed]",
      "text/plain": [
       "<Figure size 432x288 with 2 Axes>"
      ]
     },
     "metadata": {},
     "output_type": "display_data"
    }
   ],
   "source": [
    "import seaborn as sn\n",
    "import matplotlib.pyplot as plt\n",
    "\n",
    "correlation_matrix = ads_without_serial.corr()\n",
    "# формируем матрицу корреляций\n",
    "\n",
    "sn.heatmap(correlation_matrix, annot=True)\n",
    "plt.show()\n",
    "# выводим матрицу корреляций в виде heatmap для наглядной визуализации"
   ]
  },
  {
   "cell_type": "markdown",
   "id": "ff4f24ed",
   "metadata": {},
   "source": [
    "как видно из тепловой карты, показатели Search Volume и Search Volume коррелируются на высоком уровне"
   ]
  },
  {
   "cell_type": "code",
   "execution_count": 104,
   "id": "772845db",
   "metadata": {},
   "outputs": [
    {
     "data": {
      "image/png": "[encoded data removed]",
      "text/plain": [
       "<Figure size 432x288 with 1 Axes>"
      ]
     },
     "metadata": {},
     "output_type": "display_data"
    }
   ],
   "source": [
    "# построим график CPC от Paid Difficulty, т.е. зависимость стоимости за клик от конкуренции в платном поиске\n",
    "on_target_cpc_plot = ads.plot(\n",
    "    x='CPC', y='Paid Difficulty', \n",
    "    color='purple'\n",
    ")"
   ]
  },
  {
   "cell_type": "markdown",
   "id": "3d7391e8",
   "metadata": {},
   "source": [
    "как видно из графика, чем выше показатель конкуренции в платном поиске, тем выше стоимость за клик"
   ]
  }
 ],
 "metadata": {
  "kernelspec": {
   "display_name": "Python 3 (ipykernel)",
   "language": "python",
   "name": "python3"
  },
  "language_info": {
   "codemirror_mode": {
    "name": "ipython",
    "version": 3
   },
   "file_extension": ".py",
   "mimetype": "text/x-python",
   "name": "python",
   "nbconvert_exporter": "python",
   "pygments_lexer": "ipython3",
   "version": "3.9.12"
  }
 },
 "nbformat": 4,
 "nbformat_minor": 5
}
